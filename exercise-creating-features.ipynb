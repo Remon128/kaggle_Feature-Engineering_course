{
 "cells": [
  {
   "cell_type": "markdown",
   "id": "b5e6a9f4",
   "metadata": {
    "papermill": {
     "duration": 0.025475,
     "end_time": "2022-02-15T13:47:33.394938",
     "exception": false,
     "start_time": "2022-02-15T13:47:33.369463",
     "status": "completed"
    },
    "tags": []
   },
   "source": [
    "**This notebook is an exercise in the [Feature Engineering](https://www.kaggle.com/learn/feature-engineering) course.  You can reference the tutorial at [this link](https://www.kaggle.com/ryanholbrook/creating-features).**\n",
    "\n",
    "---\n"
   ]
  },
  {
   "cell_type": "markdown",
   "id": "b532e81e",
   "metadata": {
    "papermill": {
     "duration": 0.024032,
     "end_time": "2022-02-15T13:47:33.444180",
     "exception": false,
     "start_time": "2022-02-15T13:47:33.420148",
     "status": "completed"
    },
    "tags": []
   },
   "source": [
    "# Introduction #\n",
    "\n",
    "In this exercise you'll start developing the features you identified in Exercise 2 as having the most potential. As you work through this exercise, you might take a moment to look at the data documentation again and consider whether the features we're creating make sense from a real-world perspective, and whether there are any useful combinations that stand out to you.\n",
    "\n",
    "Run this cell to set everything up!"
   ]
  },
  {
   "cell_type": "code",
   "execution_count": 1,
   "id": "524d492d",
   "metadata": {
    "execution": {
     "iopub.execute_input": "2022-02-15T13:47:33.510486Z",
     "iopub.status.busy": "2022-02-15T13:47:33.509596Z",
     "iopub.status.idle": "2022-02-15T13:47:34.865545Z",
     "shell.execute_reply": "2022-02-15T13:47:34.864841Z",
     "shell.execute_reply.started": "2022-02-15T12:17:02.297405Z"
    },
    "papermill": {
     "duration": 1.395958,
     "end_time": "2022-02-15T13:47:34.865715",
     "exception": false,
     "start_time": "2022-02-15T13:47:33.469757",
     "status": "completed"
    },
    "tags": []
   },
   "outputs": [],
   "source": [
    "# Setup feedback system\n",
    "from learntools.core import binder\n",
    "binder.bind(globals())\n",
    "from learntools.feature_engineering_new.ex3 import *\n",
    "\n",
    "import numpy as np\n",
    "import pandas as pd\n",
    "from sklearn.model_selection import cross_val_score\n",
    "from xgboost import XGBRegressor\n",
    "\n",
    "\n",
    "def score_dataset(X, y, model=XGBRegressor()):\n",
    "    # Label encoding for categoricals\n",
    "    for colname in X.select_dtypes([\"category\", \"object\"]):\n",
    "        X[colname], _ = X[colname].factorize()\n",
    "    # Metric for Housing competition is RMSLE (Root Mean Squared Log Error)\n",
    "    score = cross_val_score(\n",
    "        model, X, y, cv=5, scoring=\"neg_mean_squared_log_error\",\n",
    "    )\n",
    "    score = -1 * score.mean()\n",
    "    score = np.sqrt(score)\n",
    "    return score\n",
    "\n",
    "\n",
    "# Prepare data\n",
    "df = pd.read_csv(\"../input/fe-course-data/ames.csv\")\n",
    "X = df.copy()\n",
    "y = X.pop(\"SalePrice\")"
   ]
  },
  {
   "cell_type": "markdown",
   "id": "df372338",
   "metadata": {
    "papermill": {
     "duration": 0.024023,
     "end_time": "2022-02-15T13:47:34.914669",
     "exception": false,
     "start_time": "2022-02-15T13:47:34.890646",
     "status": "completed"
    },
    "tags": []
   },
   "source": [
    "-------------------------------------------------------------------------------\n",
    "\n",
    "Let's start with a few mathematical combinations. We'll focus on features describing areas -- having the same units (square-feet) makes it easy to combine them in sensible ways. Since we're using XGBoost (a tree-based model), we'll focus on ratios and sums.\n",
    "\n",
    "# 1) Create Mathematical Transforms\n",
    "\n",
    "Create the following features:\n",
    "\n",
    "- `LivLotRatio`: the ratio of `GrLivArea` to `LotArea`\n",
    "- `Spaciousness`: the sum of `FirstFlrSF` and `SecondFlrSF` divided by `TotRmsAbvGrd`\n",
    "- `TotalOutsideSF`: the sum of `WoodDeckSF`, `OpenPorchSF`, `EnclosedPorch`, `Threeseasonporch`, and `ScreenPorch`"
   ]
  },
  {
   "cell_type": "code",
   "execution_count": null,
   "id": "b060bdc6",
   "metadata": {
    "papermill": {
     "duration": 0.024101,
     "end_time": "2022-02-15T13:47:34.963192",
     "exception": false,
     "start_time": "2022-02-15T13:47:34.939091",
     "status": "completed"
    },
    "tags": []
   },
   "outputs": [],
   "source": []
  },
  {
   "cell_type": "code",
   "execution_count": 2,
   "id": "3a2780f9",
   "metadata": {
    "execution": {
     "iopub.execute_input": "2022-02-15T13:47:35.026687Z",
     "iopub.status.busy": "2022-02-15T13:47:35.026016Z",
     "iopub.status.idle": "2022-02-15T13:47:35.041511Z",
     "shell.execute_reply": "2022-02-15T13:47:35.042034Z",
     "shell.execute_reply.started": "2022-02-15T12:28:08.005412Z"
    },
    "lines_to_next_cell": 0,
    "papermill": {
     "duration": 0.053443,
     "end_time": "2022-02-15T13:47:35.042203",
     "exception": false,
     "start_time": "2022-02-15T13:47:34.988760",
     "status": "completed"
    },
    "tags": []
   },
   "outputs": [
    {
     "data": {
      "application/javascript": [
       "parent.postMessage({\"jupyterEvent\": \"custom.exercise_interaction\", \"data\": {\"outcomeType\": 1, \"valueTowardsCompletion\": 0.2, \"interactionType\": 1, \"questionType\": 2, \"questionId\": \"1_Q1\", \"learnToolsVersion\": \"0.3.4\", \"failureMessage\": \"\", \"exceptionClass\": \"\", \"trace\": \"\"}}, \"*\")"
      ],
      "text/plain": [
       "<IPython.core.display.Javascript object>"
      ]
     },
     "metadata": {},
     "output_type": "display_data"
    },
    {
     "data": {
      "text/markdown": [
       "<span style=\"color:#33cc33\">Correct</span>"
      ],
      "text/plain": [
       "Correct"
      ]
     },
     "metadata": {},
     "output_type": "display_data"
    }
   ],
   "source": [
    "# YOUR CODE HERE\n",
    "X_1 = pd.DataFrame()  # dataframe to hold new features\n",
    "\n",
    "X_1[\"LivLotRatio\"] = df[\"GrLivArea\"]/df[\"LotArea\"]\n",
    "X_1[\"Spaciousness\"] = (df[\"FirstFlrSF\"] + df[\"SecondFlrSF\"])/df[\"TotRmsAbvGrd\"]\n",
    "X_1[\"TotalOutsideSF\"] = (df[\"WoodDeckSF\"] +\n",
    "                         df[\"OpenPorchSF\"] + df[\"EnclosedPorch\"]\n",
    "                         + df[\"Threeseasonporch\"]+ df[\"ScreenPorch\"])\n",
    "\n",
    "\n",
    "# Check your answer\n",
    "q_1.check()"
   ]
  },
  {
   "cell_type": "code",
   "execution_count": 3,
   "id": "a6cf8a79",
   "metadata": {
    "execution": {
     "iopub.execute_input": "2022-02-15T13:47:35.097485Z",
     "iopub.status.busy": "2022-02-15T13:47:35.096845Z",
     "iopub.status.idle": "2022-02-15T13:47:35.102441Z",
     "shell.execute_reply": "2022-02-15T13:47:35.103044Z",
     "shell.execute_reply.started": "2022-02-15T12:26:25.218090Z"
    },
    "lines_to_next_cell": 0,
    "papermill": {
     "duration": 0.034214,
     "end_time": "2022-02-15T13:47:35.103210",
     "exception": false,
     "start_time": "2022-02-15T13:47:35.068996",
     "status": "completed"
    },
    "tags": []
   },
   "outputs": [
    {
     "data": {
      "application/javascript": [
       "parent.postMessage({\"jupyterEvent\": \"custom.exercise_interaction\", \"data\": {\"interactionType\": 2, \"questionType\": 2, \"questionId\": \"1_Q1\", \"learnToolsVersion\": \"0.3.4\", \"valueTowardsCompletion\": 0.0, \"failureMessage\": \"\", \"exceptionClass\": \"\", \"trace\": \"\", \"outcomeType\": 4}}, \"*\")"
      ],
      "text/plain": [
       "<IPython.core.display.Javascript object>"
      ]
     },
     "metadata": {},
     "output_type": "display_data"
    },
    {
     "data": {
      "text/markdown": [
       "<span style=\"color:#3366cc\">Hint:</span> Your code should look something like:\n",
       "```python\n",
       "X_1[\"LivLotRatio\"] = ____ / ____\n",
       "X_1[\"Spaciousness\"] = (____ + ____) / ____\n",
       "X_1[\"TotalOutsideSF\"] = ____ + ____ + ____ + ____ + ____\n",
       "```\n"
      ],
      "text/plain": [
       "Hint: Your code should look something like:\n",
       "```python\n",
       "X_1[\"LivLotRatio\"] = ____ / ____\n",
       "X_1[\"Spaciousness\"] = (____ + ____) / ____\n",
       "X_1[\"TotalOutsideSF\"] = ____ + ____ + ____ + ____ + ____\n",
       "```"
      ]
     },
     "metadata": {},
     "output_type": "display_data"
    }
   ],
   "source": [
    "# Lines below will give you a hint or solution code\n",
    "q_1.hint()\n",
    "#q_1.solution()"
   ]
  },
  {
   "cell_type": "markdown",
   "id": "3236160a",
   "metadata": {
    "papermill": {
     "duration": 0.026553,
     "end_time": "2022-02-15T13:47:35.156588",
     "exception": false,
     "start_time": "2022-02-15T13:47:35.130035",
     "status": "completed"
    },
    "tags": []
   },
   "source": [
    "-------------------------------------------------------------------------------\n",
    "\n",
    "If you've discovered an interaction effect between a numeric feature and a categorical feature, you might want to model it explicitly using a one-hot encoding, like so:\n",
    "\n",
    "```\n",
    "# One-hot encode Categorical feature, adding a column prefix \"Cat\"\n",
    "X_new = pd.get_dummies(df.Categorical, prefix=\"Cat\")\n",
    "\n",
    "# Multiply row-by-row\n",
    "X_new = X_new.mul(df.Continuous, axis=0)\n",
    "\n",
    "# Join the new features to the feature set\n",
    "X = X.join(X_new)\n",
    "```\n",
    "\n",
    "# 2) Interaction with a Categorical\n",
    "\n",
    "We discovered an interaction between `BldgType` and `GrLivArea` in Exercise 2. Now create their interaction features."
   ]
  },
  {
   "cell_type": "code",
   "execution_count": 4,
   "id": "f635cc5a",
   "metadata": {
    "execution": {
     "iopub.execute_input": "2022-02-15T13:47:35.215562Z",
     "iopub.status.busy": "2022-02-15T13:47:35.214892Z",
     "iopub.status.idle": "2022-02-15T13:47:35.222790Z",
     "shell.execute_reply": "2022-02-15T13:47:35.223315Z",
     "shell.execute_reply.started": "2022-02-15T12:47:59.273383Z"
    },
    "papermill": {
     "duration": 0.039488,
     "end_time": "2022-02-15T13:47:35.223488",
     "exception": false,
     "start_time": "2022-02-15T13:47:35.184000",
     "status": "completed"
    },
    "tags": []
   },
   "outputs": [],
   "source": [
    "X_2 = pd.get_dummies(df.BldgType, prefix=\"Bldg\")\n",
    "X_2 = X_2.mul(df.GrLivArea, axis=0)"
   ]
  },
  {
   "cell_type": "code",
   "execution_count": 5,
   "id": "c3ac5ee7",
   "metadata": {
    "execution": {
     "iopub.execute_input": "2022-02-15T13:47:35.280476Z",
     "iopub.status.busy": "2022-02-15T13:47:35.279753Z",
     "iopub.status.idle": "2022-02-15T13:47:35.293878Z",
     "shell.execute_reply": "2022-02-15T13:47:35.293367Z",
     "shell.execute_reply.started": "2022-02-15T12:48:33.978607Z"
    },
    "lines_to_next_cell": 0,
    "papermill": {
     "duration": 0.043725,
     "end_time": "2022-02-15T13:47:35.294035",
     "exception": false,
     "start_time": "2022-02-15T13:47:35.250310",
     "status": "completed"
    },
    "tags": []
   },
   "outputs": [
    {
     "data": {
      "application/javascript": [
       "parent.postMessage({\"jupyterEvent\": \"custom.exercise_interaction\", \"data\": {\"outcomeType\": 1, \"valueTowardsCompletion\": 0.2, \"interactionType\": 1, \"questionType\": 2, \"questionId\": \"2_Q2\", \"learnToolsVersion\": \"0.3.4\", \"failureMessage\": \"\", \"exceptionClass\": \"\", \"trace\": \"\"}}, \"*\")"
      ],
      "text/plain": [
       "<IPython.core.display.Javascript object>"
      ]
     },
     "metadata": {},
     "output_type": "display_data"
    },
    {
     "data": {
      "text/markdown": [
       "<span style=\"color:#33cc33\">Correct</span>"
      ],
      "text/plain": [
       "Correct"
      ]
     },
     "metadata": {},
     "output_type": "display_data"
    }
   ],
   "source": [
    "# YOUR CODE HERE\n",
    "# One-hot encode BldgType. Use `prefix=\"Bldg\"` in `get_dummies`\n",
    "X_2 = pd.get_dummies(df.BldgType, prefix=\"Bldg\") \n",
    "# Multiply\n",
    "X_2 = pd.get_dummies(df.BldgType, prefix=\"Bldg\")\n",
    "X_2 = X_2.mul(df.GrLivArea, axis=0)\n",
    "\n",
    "# Check your answer\n",
    "q_2.check()"
   ]
  },
  {
   "cell_type": "code",
   "execution_count": 6,
   "id": "e8bf2966",
   "metadata": {
    "execution": {
     "iopub.execute_input": "2022-02-15T13:47:35.356743Z",
     "iopub.status.busy": "2022-02-15T13:47:35.355820Z",
     "iopub.status.idle": "2022-02-15T13:47:35.365528Z",
     "shell.execute_reply": "2022-02-15T13:47:35.364829Z",
     "shell.execute_reply.started": "2022-02-15T12:35:09.223721Z"
    },
    "lines_to_next_cell": 0,
    "papermill": {
     "duration": 0.042903,
     "end_time": "2022-02-15T13:47:35.365675",
     "exception": false,
     "start_time": "2022-02-15T13:47:35.322772",
     "status": "completed"
    },
    "tags": []
   },
   "outputs": [
    {
     "data": {
      "application/javascript": [
       "parent.postMessage({\"jupyterEvent\": \"custom.exercise_interaction\", \"data\": {\"interactionType\": 2, \"questionType\": 2, \"questionId\": \"2_Q2\", \"learnToolsVersion\": \"0.3.4\", \"valueTowardsCompletion\": 0.0, \"failureMessage\": \"\", \"exceptionClass\": \"\", \"trace\": \"\", \"outcomeType\": 4}}, \"*\")"
      ],
      "text/plain": [
       "<IPython.core.display.Javascript object>"
      ]
     },
     "metadata": {},
     "output_type": "display_data"
    },
    {
     "data": {
      "text/markdown": [
       "<span style=\"color:#3366cc\">Hint:</span> Your code should look something like:\n",
       "```python\n",
       "X_2 = pd.get_dummies(____, prefix=\"Bldg\")\n",
       "X_2 = X_2.mul(____, axis=0)\n",
       "```\n"
      ],
      "text/plain": [
       "Hint: Your code should look something like:\n",
       "```python\n",
       "X_2 = pd.get_dummies(____, prefix=\"Bldg\")\n",
       "X_2 = X_2.mul(____, axis=0)\n",
       "```"
      ]
     },
     "metadata": {},
     "output_type": "display_data"
    },
    {
     "data": {
      "application/javascript": [
       "parent.postMessage({\"jupyterEvent\": \"custom.exercise_interaction\", \"data\": {\"interactionType\": 3, \"questionType\": 2, \"questionId\": \"2_Q2\", \"learnToolsVersion\": \"0.3.4\", \"valueTowardsCompletion\": 0.0, \"failureMessage\": \"\", \"exceptionClass\": \"\", \"trace\": \"\", \"outcomeType\": 4}}, \"*\")"
      ],
      "text/plain": [
       "<IPython.core.display.Javascript object>"
      ]
     },
     "metadata": {},
     "output_type": "display_data"
    },
    {
     "data": {
      "text/markdown": [
       "<span style=\"color:#33cc99\">Solution:</span> \n",
       "```python\n",
       "\n",
       "X_2 = pd.get_dummies(df.BldgType, prefix=\"Bldg\")\n",
       "X_2 = X_2.mul(df.GrLivArea, axis=0)\n",
       "\n",
       "```"
      ],
      "text/plain": [
       "Solution: \n",
       "```python\n",
       "\n",
       "X_2 = pd.get_dummies(df.BldgType, prefix=\"Bldg\")\n",
       "X_2 = X_2.mul(df.GrLivArea, axis=0)\n",
       "\n",
       "```"
      ]
     },
     "metadata": {},
     "output_type": "display_data"
    }
   ],
   "source": [
    "# Lines below will give you a hint or solution code\n",
    "q_2.hint()\n",
    "q_2.solution()"
   ]
  },
  {
   "cell_type": "markdown",
   "id": "fdffca9c",
   "metadata": {
    "lines_to_next_cell": 0,
    "papermill": {
     "duration": 0.030651,
     "end_time": "2022-02-15T13:47:35.427367",
     "exception": false,
     "start_time": "2022-02-15T13:47:35.396716",
     "status": "completed"
    },
    "tags": []
   },
   "source": [
    "# 3) Count Feature\n",
    "\n",
    "Let's try creating a feature that describes how many kinds of outdoor areas a dwelling has. Create a feature `PorchTypes` that counts how many of the following are greater than 0.0:\n",
    "\n",
    "```\n",
    "WoodDeckSF\n",
    "OpenPorchSF\n",
    "EnclosedPorch\n",
    "Threeseasonporch\n",
    "ScreenPorch\n",
    "```"
   ]
  },
  {
   "cell_type": "code",
   "execution_count": 7,
   "id": "c5598c29",
   "metadata": {
    "execution": {
     "iopub.execute_input": "2022-02-15T13:47:35.502424Z",
     "iopub.status.busy": "2022-02-15T13:47:35.501543Z",
     "iopub.status.idle": "2022-02-15T13:47:35.513788Z",
     "shell.execute_reply": "2022-02-15T13:47:35.513218Z",
     "shell.execute_reply.started": "2022-02-15T12:57:56.003016Z"
    },
    "papermill": {
     "duration": 0.055424,
     "end_time": "2022-02-15T13:47:35.513930",
     "exception": false,
     "start_time": "2022-02-15T13:47:35.458506",
     "status": "completed"
    },
    "tags": []
   },
   "outputs": [
    {
     "data": {
      "text/html": [
       "<div>\n",
       "<style scoped>\n",
       "    .dataframe tbody tr th:only-of-type {\n",
       "        vertical-align: middle;\n",
       "    }\n",
       "\n",
       "    .dataframe tbody tr th {\n",
       "        vertical-align: top;\n",
       "    }\n",
       "\n",
       "    .dataframe thead th {\n",
       "        text-align: right;\n",
       "    }\n",
       "</style>\n",
       "<table border=\"1\" class=\"dataframe\">\n",
       "  <thead>\n",
       "    <tr style=\"text-align: right;\">\n",
       "      <th></th>\n",
       "      <th>PorchTypes</th>\n",
       "    </tr>\n",
       "  </thead>\n",
       "  <tbody>\n",
       "    <tr>\n",
       "      <th>0</th>\n",
       "      <td>2</td>\n",
       "    </tr>\n",
       "    <tr>\n",
       "      <th>1</th>\n",
       "      <td>2</td>\n",
       "    </tr>\n",
       "    <tr>\n",
       "      <th>2</th>\n",
       "      <td>2</td>\n",
       "    </tr>\n",
       "    <tr>\n",
       "      <th>3</th>\n",
       "      <td>0</td>\n",
       "    </tr>\n",
       "    <tr>\n",
       "      <th>4</th>\n",
       "      <td>2</td>\n",
       "    </tr>\n",
       "    <tr>\n",
       "      <th>...</th>\n",
       "      <td>...</td>\n",
       "    </tr>\n",
       "    <tr>\n",
       "      <th>2925</th>\n",
       "      <td>1</td>\n",
       "    </tr>\n",
       "    <tr>\n",
       "      <th>2926</th>\n",
       "      <td>1</td>\n",
       "    </tr>\n",
       "    <tr>\n",
       "      <th>2927</th>\n",
       "      <td>2</td>\n",
       "    </tr>\n",
       "    <tr>\n",
       "      <th>2928</th>\n",
       "      <td>2</td>\n",
       "    </tr>\n",
       "    <tr>\n",
       "      <th>2929</th>\n",
       "      <td>2</td>\n",
       "    </tr>\n",
       "  </tbody>\n",
       "</table>\n",
       "<p>2930 rows × 1 columns</p>\n",
       "</div>"
      ],
      "text/plain": [
       "      PorchTypes\n",
       "0              2\n",
       "1              2\n",
       "2              2\n",
       "3              0\n",
       "4              2\n",
       "...          ...\n",
       "2925           1\n",
       "2926           1\n",
       "2927           2\n",
       "2928           2\n",
       "2929           2\n",
       "\n",
       "[2930 rows x 1 columns]"
      ]
     },
     "execution_count": 7,
     "metadata": {},
     "output_type": "execute_result"
    }
   ],
   "source": [
    "X_3 = pd.DataFrame()\n",
    "\n",
    "# YOUR CODE HERE\n",
    "Porch_features = [\"WoodDeckSF\",\"OpenPorchSF\",\"EnclosedPorch\",\"Threeseasonporch\",\"ScreenPorch\"]\n",
    "X_3[\"PorchTypes\"] = df[Porch_features].gt(0.0).sum(axis=1)\n",
    "\n",
    "X_3"
   ]
  },
  {
   "cell_type": "code",
   "execution_count": 8,
   "id": "95c601c2",
   "metadata": {
    "execution": {
     "iopub.execute_input": "2022-02-15T13:47:35.590890Z",
     "iopub.status.busy": "2022-02-15T13:47:35.590209Z",
     "iopub.status.idle": "2022-02-15T13:47:35.594361Z",
     "shell.execute_reply": "2022-02-15T13:47:35.594875Z",
     "shell.execute_reply.started": "2022-02-15T12:57:42.957315Z"
    },
    "lines_to_next_cell": 0,
    "papermill": {
     "duration": 0.049746,
     "end_time": "2022-02-15T13:47:35.595063",
     "exception": false,
     "start_time": "2022-02-15T13:47:35.545317",
     "status": "completed"
    },
    "tags": []
   },
   "outputs": [
    {
     "data": {
      "application/javascript": [
       "parent.postMessage({\"jupyterEvent\": \"custom.exercise_interaction\", \"data\": {\"outcomeType\": 1, \"valueTowardsCompletion\": 0.2, \"interactionType\": 1, \"questionType\": 2, \"questionId\": \"3_Q3\", \"learnToolsVersion\": \"0.3.4\", \"failureMessage\": \"\", \"exceptionClass\": \"\", \"trace\": \"\"}}, \"*\")"
      ],
      "text/plain": [
       "<IPython.core.display.Javascript object>"
      ]
     },
     "metadata": {},
     "output_type": "display_data"
    },
    {
     "data": {
      "text/markdown": [
       "<span style=\"color:#33cc33\">Correct</span>"
      ],
      "text/plain": [
       "Correct"
      ]
     },
     "metadata": {},
     "output_type": "display_data"
    }
   ],
   "source": [
    "X_3 = pd.DataFrame()\n",
    "\n",
    "# YOUR CODE HERE\n",
    "Porch_features = [\"WoodDeckSF\",\"OpenPorchSF\",\"EnclosedPorch\",\"Threeseasonporch\",\"ScreenPorch\"]\n",
    "X_3[\"PorchTypes\"] = df[Porch_features].gt(0.0).sum(axis=1)\n",
    "\n",
    "\n",
    "# Check your answer\n",
    "q_3.check()"
   ]
  },
  {
   "cell_type": "code",
   "execution_count": 9,
   "id": "6cb46021",
   "metadata": {
    "execution": {
     "iopub.execute_input": "2022-02-15T13:47:35.664883Z",
     "iopub.status.busy": "2022-02-15T13:47:35.664214Z",
     "iopub.status.idle": "2022-02-15T13:47:35.672495Z",
     "shell.execute_reply": "2022-02-15T13:47:35.671927Z",
     "shell.execute_reply.started": "2022-02-15T12:56:28.961546Z"
    },
    "lines_to_next_cell": 0,
    "papermill": {
     "duration": 0.045162,
     "end_time": "2022-02-15T13:47:35.672635",
     "exception": false,
     "start_time": "2022-02-15T13:47:35.627473",
     "status": "completed"
    },
    "tags": []
   },
   "outputs": [
    {
     "data": {
      "application/javascript": [
       "parent.postMessage({\"jupyterEvent\": \"custom.exercise_interaction\", \"data\": {\"interactionType\": 2, \"questionType\": 2, \"questionId\": \"3_Q3\", \"learnToolsVersion\": \"0.3.4\", \"valueTowardsCompletion\": 0.0, \"failureMessage\": \"\", \"exceptionClass\": \"\", \"trace\": \"\", \"outcomeType\": 4}}, \"*\")"
      ],
      "text/plain": [
       "<IPython.core.display.Javascript object>"
      ]
     },
     "metadata": {},
     "output_type": "display_data"
    },
    {
     "data": {
      "text/markdown": [
       "<span style=\"color:#3366cc\">Hint:</span> Your code should look someting like:\n",
       "```python\n",
       "X_3 = pd.DataFrame()\n",
       "\n",
       "X_3[\"PorchTypes\"] = df[[\n",
       "    ____,\n",
       "    ____,\n",
       "    ____,\n",
       "    ____,\n",
       "    ____,\n",
       "]].____.sum(axis=1)\n",
       "```\n"
      ],
      "text/plain": [
       "Hint: Your code should look someting like:\n",
       "```python\n",
       "X_3 = pd.DataFrame()\n",
       "\n",
       "X_3[\"PorchTypes\"] = df[[\n",
       "    ____,\n",
       "    ____,\n",
       "    ____,\n",
       "    ____,\n",
       "    ____,\n",
       "]].____.sum(axis=1)\n",
       "```"
      ]
     },
     "metadata": {},
     "output_type": "display_data"
    },
    {
     "data": {
      "application/javascript": [
       "parent.postMessage({\"jupyterEvent\": \"custom.exercise_interaction\", \"data\": {\"interactionType\": 3, \"questionType\": 2, \"questionId\": \"3_Q3\", \"learnToolsVersion\": \"0.3.4\", \"valueTowardsCompletion\": 0.0, \"failureMessage\": \"\", \"exceptionClass\": \"\", \"trace\": \"\", \"outcomeType\": 4}}, \"*\")"
      ],
      "text/plain": [
       "<IPython.core.display.Javascript object>"
      ]
     },
     "metadata": {},
     "output_type": "display_data"
    },
    {
     "data": {
      "text/markdown": [
       "<span style=\"color:#33cc99\">Solution:</span> \n",
       "```python\n",
       "\n",
       "X_3 = pd.DataFrame()\n",
       "\n",
       "X_3[\"PorchTypes\"] = df[[\n",
       "    \"WoodDeckSF\",\n",
       "    \"OpenPorchSF\",\n",
       "    \"EnclosedPorch\",\n",
       "    \"Threeseasonporch\",\n",
       "    \"ScreenPorch\",\n",
       "]].gt(0.0).sum(axis=1)\n",
       "\n",
       "```"
      ],
      "text/plain": [
       "Solution: \n",
       "```python\n",
       "\n",
       "X_3 = pd.DataFrame()\n",
       "\n",
       "X_3[\"PorchTypes\"] = df[[\n",
       "    \"WoodDeckSF\",\n",
       "    \"OpenPorchSF\",\n",
       "    \"EnclosedPorch\",\n",
       "    \"Threeseasonporch\",\n",
       "    \"ScreenPorch\",\n",
       "]].gt(0.0).sum(axis=1)\n",
       "\n",
       "```"
      ]
     },
     "metadata": {},
     "output_type": "display_data"
    }
   ],
   "source": [
    "# Lines below will give you a hint or solution code\n",
    "q_3.hint()\n",
    "q_3.solution()"
   ]
  },
  {
   "cell_type": "markdown",
   "id": "d80c24bc",
   "metadata": {
    "papermill": {
     "duration": 0.036077,
     "end_time": "2022-02-15T13:47:35.743838",
     "exception": false,
     "start_time": "2022-02-15T13:47:35.707761",
     "status": "completed"
    },
    "tags": []
   },
   "source": [
    "# 4) Break Down a Categorical Feature\n",
    "\n",
    "`MSSubClass` describes the type of a dwelling:"
   ]
  },
  {
   "cell_type": "code",
   "execution_count": 10,
   "id": "42f30f58",
   "metadata": {
    "execution": {
     "iopub.execute_input": "2022-02-15T13:47:35.818473Z",
     "iopub.status.busy": "2022-02-15T13:47:35.817771Z",
     "iopub.status.idle": "2022-02-15T13:47:35.823869Z",
     "shell.execute_reply": "2022-02-15T13:47:35.824481Z",
     "shell.execute_reply.started": "2022-02-15T12:58:53.018101Z"
    },
    "papermill": {
     "duration": 0.045754,
     "end_time": "2022-02-15T13:47:35.824658",
     "exception": false,
     "start_time": "2022-02-15T13:47:35.778904",
     "status": "completed"
    },
    "tags": []
   },
   "outputs": [
    {
     "data": {
      "text/plain": [
       "array(['One_Story_1946_and_Newer_All_Styles', 'Two_Story_1946_and_Newer',\n",
       "       'One_Story_PUD_1946_and_Newer',\n",
       "       'One_and_Half_Story_Finished_All_Ages', 'Split_Foyer',\n",
       "       'Two_Story_PUD_1946_and_Newer', 'Split_or_Multilevel',\n",
       "       'One_Story_1945_and_Older', 'Duplex_All_Styles_and_Ages',\n",
       "       'Two_Family_conversion_All_Styles_and_Ages',\n",
       "       'One_and_Half_Story_Unfinished_All_Ages',\n",
       "       'Two_Story_1945_and_Older', 'Two_and_Half_Story_All_Ages',\n",
       "       'One_Story_with_Finished_Attic_All_Ages',\n",
       "       'PUD_Multilevel_Split_Level_Foyer',\n",
       "       'One_and_Half_Story_PUD_All_Ages'], dtype=object)"
      ]
     },
     "execution_count": 10,
     "metadata": {},
     "output_type": "execute_result"
    }
   ],
   "source": [
    "df.MSSubClass.unique()"
   ]
  },
  {
   "cell_type": "markdown",
   "id": "36bd517a",
   "metadata": {
    "papermill": {
     "duration": 0.035109,
     "end_time": "2022-02-15T13:47:35.895260",
     "exception": false,
     "start_time": "2022-02-15T13:47:35.860151",
     "status": "completed"
    },
    "tags": []
   },
   "source": [
    "You can see that there is a more general categorization described (roughly) by the first word of each category. Create a feature containing only these first words by splitting `MSSubClass` at the first underscore `_`. (Hint: In the `split` method use an argument `n=1`.)"
   ]
  },
  {
   "cell_type": "code",
   "execution_count": 11,
   "id": "79d59cc4",
   "metadata": {
    "execution": {
     "iopub.execute_input": "2022-02-15T13:47:35.969237Z",
     "iopub.status.busy": "2022-02-15T13:47:35.968588Z",
     "iopub.status.idle": "2022-02-15T13:47:35.981566Z",
     "shell.execute_reply": "2022-02-15T13:47:35.982161Z",
     "shell.execute_reply.started": "2022-02-15T13:25:45.323101Z"
    },
    "papermill": {
     "duration": 0.051474,
     "end_time": "2022-02-15T13:47:35.982342",
     "exception": false,
     "start_time": "2022-02-15T13:47:35.930868",
     "status": "completed"
    },
    "tags": []
   },
   "outputs": [
    {
     "data": {
      "text/plain": [
       "0         One\n",
       "1         One\n",
       "2         One\n",
       "3         One\n",
       "4         Two\n",
       "        ...  \n",
       "2925    Split\n",
       "2926      One\n",
       "2927    Split\n",
       "2928      One\n",
       "2929      Two\n",
       "Name: 0, Length: 2930, dtype: object"
      ]
     },
     "execution_count": 11,
     "metadata": {},
     "output_type": "execute_result"
    }
   ],
   "source": [
    "df.MSSubClass.str.split(\"_\",n=1,expand=True)[0]"
   ]
  },
  {
   "cell_type": "code",
   "execution_count": 12,
   "id": "ff5769d2",
   "metadata": {
    "execution": {
     "iopub.execute_input": "2022-02-15T13:47:36.057913Z",
     "iopub.status.busy": "2022-02-15T13:47:36.057229Z",
     "iopub.status.idle": "2022-02-15T13:47:36.081532Z",
     "shell.execute_reply": "2022-02-15T13:47:36.082040Z",
     "shell.execute_reply.started": "2022-02-15T13:25:53.136650Z"
    },
    "lines_to_next_cell": 0,
    "papermill": {
     "duration": 0.063608,
     "end_time": "2022-02-15T13:47:36.082222",
     "exception": false,
     "start_time": "2022-02-15T13:47:36.018614",
     "status": "completed"
    },
    "tags": []
   },
   "outputs": [
    {
     "data": {
      "application/javascript": [
       "parent.postMessage({\"jupyterEvent\": \"custom.exercise_interaction\", \"data\": {\"outcomeType\": 1, \"valueTowardsCompletion\": 0.2, \"interactionType\": 1, \"questionType\": 2, \"questionId\": \"4_Q4\", \"learnToolsVersion\": \"0.3.4\", \"failureMessage\": \"\", \"exceptionClass\": \"\", \"trace\": \"\"}}, \"*\")"
      ],
      "text/plain": [
       "<IPython.core.display.Javascript object>"
      ]
     },
     "metadata": {},
     "output_type": "display_data"
    },
    {
     "data": {
      "text/markdown": [
       "<span style=\"color:#33cc33\">Correct</span>"
      ],
      "text/plain": [
       "Correct"
      ]
     },
     "metadata": {},
     "output_type": "display_data"
    }
   ],
   "source": [
    "X_4 = pd.DataFrame()\n",
    "\n",
    "# YOUR CODE HERE\n",
    "X_4[\"MSClass\"] = df.MSSubClass.str.split(\"_\",n=1,expand=True)[0]\n",
    "\n",
    "# Check your answer\n",
    "q_4.check()"
   ]
  },
  {
   "cell_type": "code",
   "execution_count": 13,
   "id": "7630a706",
   "metadata": {
    "execution": {
     "iopub.execute_input": "2022-02-15T13:47:36.161661Z",
     "iopub.status.busy": "2022-02-15T13:47:36.160646Z",
     "iopub.status.idle": "2022-02-15T13:47:36.172514Z",
     "shell.execute_reply": "2022-02-15T13:47:36.171931Z",
     "shell.execute_reply.started": "2022-02-15T13:22:31.192808Z"
    },
    "lines_to_next_cell": 0,
    "papermill": {
     "duration": 0.05243,
     "end_time": "2022-02-15T13:47:36.172677",
     "exception": false,
     "start_time": "2022-02-15T13:47:36.120247",
     "status": "completed"
    },
    "tags": []
   },
   "outputs": [
    {
     "data": {
      "application/javascript": [
       "parent.postMessage({\"jupyterEvent\": \"custom.exercise_interaction\", \"data\": {\"interactionType\": 2, \"questionType\": 2, \"questionId\": \"4_Q4\", \"learnToolsVersion\": \"0.3.4\", \"valueTowardsCompletion\": 0.0, \"failureMessage\": \"\", \"exceptionClass\": \"\", \"trace\": \"\", \"outcomeType\": 4}}, \"*\")"
      ],
      "text/plain": [
       "<IPython.core.display.Javascript object>"
      ]
     },
     "metadata": {},
     "output_type": "display_data"
    },
    {
     "data": {
      "text/markdown": [
       "<span style=\"color:#3366cc\">Hint:</span> Your code should look something like:\n",
       "```python\n",
       "X_4 = pd.DataFrame()\n",
       "\n",
       "X_4[\"MSClass\"] = df.____.str.____(____, n=1, expand=True)[____]\n",
       "```\n"
      ],
      "text/plain": [
       "Hint: Your code should look something like:\n",
       "```python\n",
       "X_4 = pd.DataFrame()\n",
       "\n",
       "X_4[\"MSClass\"] = df.____.str.____(____, n=1, expand=True)[____]\n",
       "```"
      ]
     },
     "metadata": {},
     "output_type": "display_data"
    },
    {
     "data": {
      "application/javascript": [
       "parent.postMessage({\"jupyterEvent\": \"custom.exercise_interaction\", \"data\": {\"interactionType\": 3, \"questionType\": 2, \"questionId\": \"4_Q4\", \"learnToolsVersion\": \"0.3.4\", \"valueTowardsCompletion\": 0.0, \"failureMessage\": \"\", \"exceptionClass\": \"\", \"trace\": \"\", \"outcomeType\": 4}}, \"*\")"
      ],
      "text/plain": [
       "<IPython.core.display.Javascript object>"
      ]
     },
     "metadata": {},
     "output_type": "display_data"
    },
    {
     "data": {
      "text/markdown": [
       "<span style=\"color:#33cc99\">Solution:</span> \n",
       "```python\n",
       "\n",
       "X_4 = pd.DataFrame()\n",
       "\n",
       "X_4[\"MSClass\"] = df.MSSubClass.str.split(\"_\", n=1, expand=True)[0]\n",
       "\n",
       "```"
      ],
      "text/plain": [
       "Solution: \n",
       "```python\n",
       "\n",
       "X_4 = pd.DataFrame()\n",
       "\n",
       "X_4[\"MSClass\"] = df.MSSubClass.str.split(\"_\", n=1, expand=True)[0]\n",
       "\n",
       "```"
      ]
     },
     "metadata": {},
     "output_type": "display_data"
    }
   ],
   "source": [
    "# Lines below will give you a hint or solution code\n",
    "q_4.hint()\n",
    "q_4.solution()"
   ]
  },
  {
   "cell_type": "markdown",
   "id": "83fbdbcf",
   "metadata": {
    "papermill": {
     "duration": 0.039428,
     "end_time": "2022-02-15T13:47:36.252236",
     "exception": false,
     "start_time": "2022-02-15T13:47:36.212808",
     "status": "completed"
    },
    "tags": []
   },
   "source": [
    "# 5) Use a Grouped Transform\n",
    "\n",
    "The value of a home often depends on how it compares to typical homes in its neighborhood. Create a feature `MedNhbdArea` that describes the *median* of `GrLivArea` grouped on `Neighborhood`."
   ]
  },
  {
   "cell_type": "code",
   "execution_count": 14,
   "id": "88801cfb",
   "metadata": {
    "execution": {
     "iopub.execute_input": "2022-02-15T13:47:36.335467Z",
     "iopub.status.busy": "2022-02-15T13:47:36.334838Z",
     "iopub.status.idle": "2022-02-15T13:47:36.349197Z",
     "shell.execute_reply": "2022-02-15T13:47:36.348581Z",
     "shell.execute_reply.started": "2022-02-15T13:47:02.863941Z"
    },
    "papermill": {
     "duration": 0.057471,
     "end_time": "2022-02-15T13:47:36.349344",
     "exception": false,
     "start_time": "2022-02-15T13:47:36.291873",
     "status": "completed"
    },
    "tags": []
   },
   "outputs": [
    {
     "data": {
      "text/plain": [
       "Neighborhood\n",
       "Bloomington_Heights                        1455.5\n",
       "Blueste                                    1118.0\n",
       "Briardale                                  1092.0\n",
       "Brookside                                  1231.0\n",
       "Clear_Creek                                1694.0\n",
       "College_Creek                              1504.0\n",
       "Crawford                                   1648.0\n",
       "Edwards                                    1195.5\n",
       "Gilbert                                    1560.0\n",
       "Green_Hills                                1398.5\n",
       "Greens                                     1226.0\n",
       "Iowa_DOT_and_Rail_Road                     1128.0\n",
       "Landmark                                   1320.0\n",
       "Meadow_Village                             1092.0\n",
       "Mitchell                                   1282.0\n",
       "North_Ames                                 1200.0\n",
       "Northpark_Villa                            1322.0\n",
       "Northridge                                 2418.0\n",
       "Northridge_Heights                         1832.0\n",
       "Northwest_Ames                             1632.0\n",
       "Old_Town                                   1374.0\n",
       "Sawyer                                     1052.0\n",
       "Sawyer_West                                1575.0\n",
       "Somerset                                   1555.0\n",
       "South_and_West_of_Iowa_State_University    1536.5\n",
       "Stone_Brook                                1767.0\n",
       "Timberland                                 1650.5\n",
       "Veenker                                    1706.5\n",
       "Name: GrLivArea, dtype: float64"
      ]
     },
     "execution_count": 14,
     "metadata": {},
     "output_type": "execute_result"
    }
   ],
   "source": [
    "df.groupby(\"Neighborhood\").GrLivArea.median()"
   ]
  },
  {
   "cell_type": "code",
   "execution_count": 15,
   "id": "34908c84",
   "metadata": {
    "execution": {
     "iopub.execute_input": "2022-02-15T13:47:36.439291Z",
     "iopub.status.busy": "2022-02-15T13:47:36.436078Z",
     "iopub.status.idle": "2022-02-15T13:47:36.449690Z",
     "shell.execute_reply": "2022-02-15T13:47:36.449177Z",
     "shell.execute_reply.started": "2022-02-15T13:44:09.969306Z"
    },
    "lines_to_next_cell": 0,
    "papermill": {
     "duration": 0.06008,
     "end_time": "2022-02-15T13:47:36.449829",
     "exception": false,
     "start_time": "2022-02-15T13:47:36.389749",
     "status": "completed"
    },
    "tags": []
   },
   "outputs": [
    {
     "data": {
      "application/javascript": [
       "parent.postMessage({\"jupyterEvent\": \"custom.exercise_interaction\", \"data\": {\"outcomeType\": 1, \"valueTowardsCompletion\": 0.2, \"interactionType\": 1, \"questionType\": 2, \"questionId\": \"5_Q5\", \"learnToolsVersion\": \"0.3.4\", \"failureMessage\": \"\", \"exceptionClass\": \"\", \"trace\": \"\"}}, \"*\")"
      ],
      "text/plain": [
       "<IPython.core.display.Javascript object>"
      ]
     },
     "metadata": {},
     "output_type": "display_data"
    },
    {
     "data": {
      "text/markdown": [
       "<span style=\"color:#33cc33\">Correct</span>"
      ],
      "text/plain": [
       "Correct"
      ]
     },
     "metadata": {},
     "output_type": "display_data"
    }
   ],
   "source": [
    "X_5 = pd.DataFrame()\n",
    "\n",
    "# YOUR CODE HERE\n",
    "X_5[\"MedNhbdArea\"] = df.groupby(\"Neighborhood\").GrLivArea.transform(\"median\")\n",
    "\n",
    "# Check your answer\n",
    "q_5.check()"
   ]
  },
  {
   "cell_type": "code",
   "execution_count": 16,
   "id": "c23276de",
   "metadata": {
    "execution": {
     "iopub.execute_input": "2022-02-15T13:47:36.538467Z",
     "iopub.status.busy": "2022-02-15T13:47:36.537707Z",
     "iopub.status.idle": "2022-02-15T13:47:36.542907Z",
     "shell.execute_reply": "2022-02-15T13:47:36.542286Z",
     "shell.execute_reply.started": "2022-02-15T13:39:08.155704Z"
    },
    "lines_to_next_cell": 0,
    "papermill": {
     "duration": 0.051788,
     "end_time": "2022-02-15T13:47:36.543094",
     "exception": false,
     "start_time": "2022-02-15T13:47:36.491306",
     "status": "completed"
    },
    "tags": []
   },
   "outputs": [
    {
     "data": {
      "application/javascript": [
       "parent.postMessage({\"jupyterEvent\": \"custom.exercise_interaction\", \"data\": {\"interactionType\": 2, \"questionType\": 2, \"questionId\": \"5_Q5\", \"learnToolsVersion\": \"0.3.4\", \"valueTowardsCompletion\": 0.0, \"failureMessage\": \"\", \"exceptionClass\": \"\", \"trace\": \"\", \"outcomeType\": 4}}, \"*\")"
      ],
      "text/plain": [
       "<IPython.core.display.Javascript object>"
      ]
     },
     "metadata": {},
     "output_type": "display_data"
    },
    {
     "data": {
      "text/markdown": [
       "<span style=\"color:#3366cc\">Hint:</span> Your code should look something like:\n",
       "```python\n",
       "X_5 = pd.DataFrame()\n",
       "\n",
       "X_5[\"MedNhbdArea\"] = df.____(\"Neighborhood\")[\"____\"].transform(____)\n",
       "```\n"
      ],
      "text/plain": [
       "Hint: Your code should look something like:\n",
       "```python\n",
       "X_5 = pd.DataFrame()\n",
       "\n",
       "X_5[\"MedNhbdArea\"] = df.____(\"Neighborhood\")[\"____\"].transform(____)\n",
       "```"
      ]
     },
     "metadata": {},
     "output_type": "display_data"
    }
   ],
   "source": [
    "# Lines below will give you a hint or solution code\n",
    "q_5.hint()\n",
    "#q_5.solution()"
   ]
  },
  {
   "cell_type": "markdown",
   "id": "8327fb83",
   "metadata": {
    "papermill": {
     "duration": 0.043175,
     "end_time": "2022-02-15T13:47:36.629948",
     "exception": false,
     "start_time": "2022-02-15T13:47:36.586773",
     "status": "completed"
    },
    "tags": []
   },
   "source": [
    "Now you've made your first new feature set! If you like, you can run the cell below to score the model with all of your new features added:"
   ]
  },
  {
   "cell_type": "code",
   "execution_count": 17,
   "id": "e4e44097",
   "metadata": {
    "execution": {
     "iopub.execute_input": "2022-02-15T13:47:36.721353Z",
     "iopub.status.busy": "2022-02-15T13:47:36.720637Z",
     "iopub.status.idle": "2022-02-15T13:47:42.421766Z",
     "shell.execute_reply": "2022-02-15T13:47:42.422332Z"
    },
    "papermill": {
     "duration": 5.750058,
     "end_time": "2022-02-15T13:47:42.422544",
     "exception": false,
     "start_time": "2022-02-15T13:47:36.672486",
     "status": "completed"
    },
    "tags": []
   },
   "outputs": [
    {
     "data": {
      "text/plain": [
       "0.13847331710099203"
      ]
     },
     "execution_count": 17,
     "metadata": {},
     "output_type": "execute_result"
    }
   ],
   "source": [
    "X_new = X.join([X_1, X_2, X_3, X_4, X_5])\n",
    "score_dataset(X_new, y)"
   ]
  },
  {
   "cell_type": "markdown",
   "id": "0484b4ce",
   "metadata": {
    "papermill": {
     "duration": 0.04328,
     "end_time": "2022-02-15T13:47:42.510383",
     "exception": false,
     "start_time": "2022-02-15T13:47:42.467103",
     "status": "completed"
    },
    "tags": []
   },
   "source": [
    "# Keep Going #\n",
    "\n",
    "[**Untangle spatial relationships**](https://www.kaggle.com/ryanholbrook/clustering-with-k-means) by adding cluster labels to your dataset."
   ]
  }
 ],
 "metadata": {
  "kernelspec": {
   "display_name": "Python 3",
   "language": "python",
   "name": "python3"
  },
  "language_info": {
   "codemirror_mode": {
    "name": "ipython",
    "version": 3
   },
   "file_extension": ".py",
   "mimetype": "text/x-python",
   "name": "python",
   "nbconvert_exporter": "python",
   "pygments_lexer": "ipython3",
   "version": "3.7.12"
  },
  "papermill": {
   "default_parameters": {},
   "duration": 20.156244,
   "end_time": "2022-02-15T13:47:43.264033",
   "environment_variables": {},
   "exception": null,
   "input_path": "__notebook__.ipynb",
   "output_path": "__notebook__.ipynb",
   "parameters": {},
   "start_time": "2022-02-15T13:47:23.107789",
   "version": "2.3.3"
  }
 },
 "nbformat": 4,
 "nbformat_minor": 5
}
